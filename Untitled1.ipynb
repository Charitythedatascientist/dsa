{
 "cells": [
  {
   "cell_type": "code",
   "execution_count": 25,
   "id": "e901f715",
   "metadata": {},
   "outputs": [],
   "source": [
    "\"\"\"You can use this class to represent how classy someone\n",
    "or something is.\n",
    "\"Classy\" is interchangable with \"fancy\".\n",
    "If you add fancy-looking items, you will increase\n",
    "your \"classiness\".\n",
    "Create a function in \"Classy\" that takes a string as\n",
    "input and adds it to the \"items\" list.\n",
    "Another method should calculate the \"classiness\"\n",
    "value based on the items.\n",
    "The following items have classiness points associated\n",
    "with them:\n",
    "\"tophat\" = 2\n",
    "\"bowtie\" = 4\n",
    "\"monocle\" = 5\n",
    "Everything else has 0 points.\n",
    "Use the test cases below to guide you!\"\"\"\n",
    "\n",
    "class Classy(object):\n",
    "    def __init__(self):\n",
    "        self.items = []\n",
    "    \n",
    "    def addItem(self, item):\n",
    "        self.item = item\n",
    "        self.items.append(item)\n",
    "        \n",
    "    def getClassiness(self):\n",
    "        value = 0\n",
    "        if self.item == 'tophat':\n",
    "            value += 2\n",
    "        elif self.item == 'bowtie':\n",
    "            value += 4\n",
    "        elif self.item == 'monocle':\n",
    "            value = +5\n",
    "        else:\n",
    "            value = 0\n",
    "        return value\n",
    "        \n",
    "        \n",
    "       "
   ]
  },
  {
   "cell_type": "code",
   "execution_count": 26,
   "id": "b7eadaf4",
   "metadata": {},
   "outputs": [
    {
     "name": "stdout",
     "output_type": "stream",
     "text": [
      "None\n"
     ]
    }
   ],
   "source": [
    "# Test cases\n",
    "me = Classy()\n",
    "\n",
    "# # Should be 0\n",
    "# print me.getClassiness()\n",
    "\n",
    "print(me.addItem(\"tophat\"))\n",
    "# Should be 2\n",
    "#print (me.getClassiness())\n",
    "\n",
    "# me.addItem(\"bowtie\")\n",
    "# me.addItem(\"jacket\")\n",
    "# me.addItem(\"monocle\")\n",
    "# # Should be 11\n",
    "# #print (me.getClassiness())\n",
    "\n",
    "# me.addItem(\"bowtie\")\n",
    "# # Should be 15\n",
    "# print (me.getClassiness())"
   ]
  },
  {
   "cell_type": "code",
   "execution_count": null,
   "id": "2b67f372",
   "metadata": {},
   "outputs": [],
   "source": []
  }
 ],
 "metadata": {
  "kernelspec": {
   "display_name": "Python 3 (ipykernel)",
   "language": "python",
   "name": "python3"
  },
  "language_info": {
   "codemirror_mode": {
    "name": "ipython",
    "version": 3
   },
   "file_extension": ".py",
   "mimetype": "text/x-python",
   "name": "python",
   "nbconvert_exporter": "python",
   "pygments_lexer": "ipython3",
   "version": "3.10.9"
  }
 },
 "nbformat": 4,
 "nbformat_minor": 5
}
